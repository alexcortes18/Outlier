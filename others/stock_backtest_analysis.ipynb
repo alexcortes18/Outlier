{
 "cells": [
  {
   "cell_type": "markdown",
   "metadata": {},
   "source": [
    "# Model 1"
   ]
  },
  {
   "cell_type": "code",
   "execution_count": null,
   "metadata": {},
   "outputs": [],
   "source": [
    "# Cannot run the model since we dont have stock_data csv, but it seems code is logical and good."
   ]
  },
  {
   "cell_type": "code",
   "execution_count": null,
   "metadata": {},
   "outputs": [],
   "source": [
    "import pandas as pd\n",
    "import numpy as np\n",
    "\n",
    "# # Load the data\n",
    "# df = pd.read_csv('stock_data.csv', parse_dates=True, index_col=0)\n",
    "\n",
    "# # Calculate the 8-period and 11-period EMAs\n",
    "# ema8 = df['Close'].ewm(span=8).mean()\n",
    "# ema11 = df['Close'].ewm(span=11).mean()\n",
    "\n",
    "# # Generate a buy signal when the 8-period EMA crosses above the 11-period EMA\n",
    "# buy_signal = np.where(ema8 > ema11, 1, 0)\n",
    "\n",
    "# # Generate a sell signal when the 8-period EMA crosses below the 11-period EMA\n",
    "# sell_signal = np.where(ema8 < ema11, -1, 0)\n",
    "\n",
    "# # Generate a portfolio by summing the buy and sell signals\n",
    "# portfolio = buy_signal + sell_signal\n",
    "\n",
    "# # Calculate the total portfolio value\n",
    "# portfolio_value = (df['Close'] * portfolio).cumsum()\n",
    "\n",
    "# # Plot the portfolio value\n",
    "# portfolio_value.plot()"
   ]
  },
  {
   "cell_type": "markdown",
   "metadata": {},
   "source": [
    "# Model 2"
   ]
  },
  {
   "cell_type": "code",
   "execution_count": 11,
   "metadata": {},
   "outputs": [],
   "source": [
    "import pandas as pd\n",
    "import matplotlib.pyplot as plt\n",
    "from backtrader import Strategy, Cerebro, Order #,Data Feed #,Timeframe #,Broker"
   ]
  },
  {
   "cell_type": "code",
   "execution_count": null,
   "metadata": {},
   "outputs": [],
   "source": [
    "# 1. It's imports are mistaken\n",
    "# 2. cannot run it even if imports were okay, because we dont have CSV."
   ]
  },
  {
   "cell_type": "code",
   "execution_count": 10,
   "metadata": {},
   "outputs": [],
   "source": [
    "# Search official documentation: \n",
    "# https://www.backtrader.com/docu/broker/"
   ]
  },
  {
   "cell_type": "code",
   "execution_count": null,
   "metadata": {},
   "outputs": [],
   "source": [
    "data = pd.read_csv('your_data.csv')\n",
    "data['Date'] = pd.to_datetime(data['Date'])\n",
    "data.set_index('Date', inplace=True)\n",
    "\n",
    "class EMACrossStrategy(Strategy):\n",
    "    params = (\n",
    "        ('short_period', 8),\n",
    "        ('long_period', 11),\n",
    "    )\n",
    "\n",
    "    def __init__(self):\n",
    "        self.short_ema = self.data.close.ewm(span=self.params.short_period, adjust=False).mean()\n",
    "        self.long_ema = self.data.close.ewm(span=self.params.long_period, adjust=False).mean()\n",
    "\n",
    "    def next(self):\n",
    "        if self.short_ema > self.long_ema:\n",
    "            self.buy()\n",
    "        elif self.short_ema < self.long_ema:\n",
    "            self.sell()"
   ]
  },
  {
   "cell_type": "markdown",
   "metadata": {},
   "source": [
    "# Multi-class Image Classification"
   ]
  },
  {
   "cell_type": "code",
   "execution_count": null,
   "metadata": {},
   "outputs": [],
   "source": [
    "cerebro = Cerebro()\n",
    "cerebro.addstrategy(EMACrossStrategy)\n",
    "cerebro.broker = Broker(cerebro)\n",
    "cerebro.adddata(data)\n",
    "cerebro.run()"
   ]
  },
  {
   "cell_type": "code",
   "execution_count": null,
   "metadata": {},
   "outputs": [],
   "source": [
    "cerebro.plot()\n",
    "plt.show()"
   ]
  },
  {
   "cell_type": "code",
   "execution_count": null,
   "metadata": {},
   "outputs": [],
   "source": []
  },
  {
   "cell_type": "code",
   "execution_count": null,
   "metadata": {},
   "outputs": [],
   "source": []
  },
  {
   "cell_type": "code",
   "execution_count": null,
   "metadata": {},
   "outputs": [],
   "source": []
  },
  {
   "cell_type": "code",
   "execution_count": null,
   "metadata": {},
   "outputs": [],
   "source": []
  },
  {
   "cell_type": "code",
   "execution_count": null,
   "metadata": {},
   "outputs": [],
   "source": []
  },
  {
   "cell_type": "code",
   "execution_count": null,
   "metadata": {},
   "outputs": [],
   "source": []
  }
 ],
 "metadata": {
  "kernelspec": {
   "display_name": "alex",
   "language": "python",
   "name": "python3"
  },
  "language_info": {
   "codemirror_mode": {
    "name": "ipython",
    "version": 3
   },
   "file_extension": ".py",
   "mimetype": "text/x-python",
   "name": "python",
   "nbconvert_exporter": "python",
   "pygments_lexer": "ipython3",
   "version": "3.10.13"
  }
 },
 "nbformat": 4,
 "nbformat_minor": 2
}
