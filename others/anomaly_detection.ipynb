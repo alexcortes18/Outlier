{
 "cells": [
  {
   "cell_type": "markdown",
   "metadata": {},
   "source": [
    "# Model 1"
   ]
  },
  {
   "cell_type": "code",
   "execution_count": null,
   "metadata": {},
   "outputs": [],
   "source": [
    "# The code had an issue:\n",
    "# it used: predict(), instead of using fit_predict()"
   ]
  },
  {
   "cell_type": "code",
   "execution_count": null,
   "metadata": {},
   "outputs": [],
   "source": [
    "import numpy as np\n",
    "from sklearn.neighbors import LocalOutlierFactor\n",
    "\n",
    "class AnomalyDetector:\n",
    "    def __init__(self, contamination=0.1, n_neighbors=20):\n",
    "        \"\"\"\n",
    "        Initialize the anomaly detector with given contamination and number of neighbors.\n",
    "\n",
    "        :param contamination: The proportion of outliers in the data set.\n",
    "        :param n_neighbors: The number of neighbors to use for LOF.\n",
    "        \"\"\"\n",
    "        self.contamination = contamination\n",
    "        self.n_neighbors = n_neighbors\n",
    "        self.clf = LocalOutlierFactor(n_neighbors=n_neighbors, contamination=contamination)\n",
    "\n",
    "    def fit(self, X):\n",
    "        \"\"\"\n",
    "        Fit the anomaly detector to the given data.\n",
    "\n",
    "        :param X: The input data as a numpy array.\n",
    "        \"\"\"\n",
    "        self.clf.fit(X)\n",
    "\n",
    "    def predict(self, X):\n",
    "        \"\"\"\n",
    "        Predict whether the given data points are anomalies or not.\n",
    "\n",
    "        :param X: The input data as a numpy array.\n",
    "        :return: A numpy array of booleans indicating whether each data point is an anomaly.\n",
    "        \"\"\"\n",
    "        return self.clf.fit_predict(X) == -1\n",
    "\n",
    "    def score_samples(self, X):\n",
    "        \"\"\"\n",
    "        Compute the Local Outlier Factor for each data point.\n",
    "\n",
    "        :param X: The input data as a numpy array.\n",
    "        :return: A numpy array of Local Outlier Factor scores for each data point.\n",
    "        \"\"\"\n",
    "        return self.clf.negative_outlier_factor_"
   ]
  },
  {
   "cell_type": "code",
   "execution_count": 13,
   "metadata": {},
   "outputs": [],
   "source": [
    "# Example usage:\n",
    "data = np.random.rand(100, 2)  # Generate some random data\n",
    "anomaly_detector = AnomalyDetector()"
   ]
  },
  {
   "cell_type": "code",
   "execution_count": 14,
   "metadata": {},
   "outputs": [],
   "source": [
    "anomaly_detector.fit(data)"
   ]
  },
  {
   "cell_type": "code",
   "execution_count": 15,
   "metadata": {},
   "outputs": [],
   "source": [
    "anomalies = anomaly_detector.predict(data)"
   ]
  },
  {
   "cell_type": "code",
   "execution_count": 16,
   "metadata": {},
   "outputs": [
    {
     "name": "stdout",
     "output_type": "stream",
     "text": [
      "Anomalies: [ 7 12 16 44 66 69 74 85 94 96]\n"
     ]
    }
   ],
   "source": [
    "print(\"Anomalies:\", np.where(anomalies)[0])"
   ]
  },
  {
   "cell_type": "markdown",
   "metadata": {},
   "source": [
    "# Model 2:"
   ]
  },
  {
   "cell_type": "code",
   "execution_count": null,
   "metadata": {},
   "outputs": [],
   "source": [
    "# This code is nonsense."
   ]
  },
  {
   "cell_type": "code",
   "execution_count": 17,
   "metadata": {},
   "outputs": [
    {
     "name": "stdout",
     "output_type": "stream",
     "text": [
      "Detected anomalies: [105, 200]\n"
     ]
    }
   ],
   "source": [
    "\n",
    "class AnomalyDetector:\n",
    "\n",
    "    def __init__(self):\n",
    "\n",
    "        self.data = []\n",
    "\n",
    "\n",
    "    def add_data(self, data_point):\n",
    "\n",
    "        self.data.append(data_point)\n",
    "\n",
    "\n",
    "    def detect_anomalies(self):\n",
    "\n",
    "        # Placeholder for anomaly detection logic\n",
    "\n",
    "        anomalies = []\n",
    "\n",
    "        for data_point in self.data:\n",
    "\n",
    "            if self.is_anomalous(data_point):\n",
    "\n",
    "                anomalies.append(data_point)\n",
    "\n",
    "        return anomalies\n",
    "\n",
    "\n",
    "    def is_anomalous(self, data_point):\n",
    "\n",
    "        # Placeholder for actual anomaly detection logic\n",
    "\n",
    "        # For demonstration, let's assume any data point > 100 is an anomaly\n",
    "\n",
    "        return data_point > 100\n",
    "\n",
    "\n",
    "# Example usage\n",
    "\n",
    "detector = AnomalyDetector()\n",
    "\n",
    "detector.add_data(10)\n",
    "\n",
    "detector.add_data(105)\n",
    "\n",
    "detector.add_data(200)\n",
    "\n",
    "\n",
    "anomalies = detector.detect_anomalies()\n",
    "\n",
    "print(\"Detected anomalies:\", anomalies)"
   ]
  },
  {
   "cell_type": "code",
   "execution_count": null,
   "metadata": {},
   "outputs": [],
   "source": []
  },
  {
   "cell_type": "code",
   "execution_count": null,
   "metadata": {},
   "outputs": [],
   "source": []
  },
  {
   "cell_type": "code",
   "execution_count": null,
   "metadata": {},
   "outputs": [],
   "source": []
  },
  {
   "cell_type": "code",
   "execution_count": null,
   "metadata": {},
   "outputs": [],
   "source": []
  }
 ],
 "metadata": {
  "kernelspec": {
   "display_name": "alex",
   "language": "python",
   "name": "python3"
  },
  "language_info": {
   "codemirror_mode": {
    "name": "ipython",
    "version": 3
   },
   "file_extension": ".py",
   "mimetype": "text/x-python",
   "name": "python",
   "nbconvert_exporter": "python",
   "pygments_lexer": "ipython3",
   "version": "3.10.13"
  }
 },
 "nbformat": 4,
 "nbformat_minor": 2
}
